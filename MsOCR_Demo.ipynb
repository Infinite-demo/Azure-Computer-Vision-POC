{
 "cells": [
  {
   "cell_type": "markdown",
   "metadata": {},
   "source": [
    "## First Example"
   ]
  },
  {
   "cell_type": "code",
   "execution_count": 12,
   "metadata": {},
   "outputs": [],
   "source": [
    "import os\n",
    "import sys\n",
    "import requests\n",
    "%matplotlib inline\n",
    "import matplotlib.pyplot as plt\n",
    "from matplotlib.patches import Rectangle\n",
    "from PIL import Image\n",
    "from io import BytesIO"
   ]
  },
  {
   "cell_type": "code",
   "execution_count": 13,
   "metadata": {},
   "outputs": [],
   "source": [
    "if 'COMPUTER_VISION_SUBSCRIPTION_KEY' in os.environ:\n",
    "    subscription_key = os.environ['COMPUTER_VISION_SUBSCRIPTION_KEY']\n",
    "else:\n",
    "    print(\"\\nSet the COMPUTER_VISION_SUBSCRIPTION_KEY environment variable.\\n**Restart your shell or IDE for changes to take effect.**\")\n",
    "    sys.exit()"
   ]
  },
  {
   "cell_type": "code",
   "execution_count": 14,
   "metadata": {},
   "outputs": [],
   "source": [
    "if 'COMPUTER_VISION_ENDPOINT' in os.environ:\n",
    "    endpoint = os.environ['COMPUTER_VISION_ENDPOINT']"
   ]
  },
  {
   "cell_type": "code",
   "execution_count": 16,
   "metadata": {},
   "outputs": [],
   "source": [
    "ocr_url = endpoint + \"vision/v3.1/ocr\""
   ]
  },
  {
   "cell_type": "markdown",
   "metadata": {},
   "source": [
    "## OCR On image retrieved via URL"
   ]
  },
  {
   "cell_type": "code",
   "execution_count": 15,
   "metadata": {},
   "outputs": [],
   "source": [
    "image_url = \"https://user-images.githubusercontent.com/2716202/102968699-5f950500-451a-11eb-84c4-cbc3bb3e886a.png\""
   ]
  },
  {
   "cell_type": "code",
   "execution_count": null,
   "metadata": {},
   "outputs": [],
   "source": [
    "headers = {'Ocp-Apim-Subscription-Key': subscription_key}\n",
    "params = {'language': 'unk', 'detectOrientation': 'true'}\n",
    "data = {'url': image_url}\n",
    "response = requests.post(ocr_url, headers=headers, params=params, json=data)\n",
    "\n",
    "response.raise_for_status()\n",
    "\n",
    "analysis = response.json()"
   ]
  },
  {
   "cell_type": "code",
   "execution_count": 31,
   "metadata": {},
   "outputs": [
    {
     "name": "stdout",
     "output_type": "stream",
     "text": [
      "{'language': 'en', 'textAngle': 0.0, 'orientation': 'Up', 'regions': [{'boundingBox': '56,114,494,326', 'lines': [{'boundingBox': '293,114,257,37', 'words': [{'boundingBox': '293,114,137,37', 'text': 'Infinite'}, {'boundingBox': '447,115,103,36', 'text': 'demo'}]}, {'boundingBox': '56,298,174,31', 'words': [{'boundingBox': '56,298,87,31', 'text': 'Python'}, {'boundingBox': '153,298,77,24', 'text': 'MsOcr'}]}, {'boundingBox': '56,383,281,26', 'words': [{'boundingBox': '56,383,281,26', 'text': 'python.msocr@domain.com'}]}, {'boundingBox': '56,420,111,20', 'words': [{'boundingBox': '56,420,65,20', 'text': 'Online'}, {'boundingBox': '129,420,38,20', 'text': 'POC'}]}]}, {'boundingBox': '636,337,156,108', 'lines': [{'boundingBox': '636,337,156,20', 'words': [{'boundingBox': '636,337,156,20', 'text': '+91-789123456'}]}, {'boundingBox': '654,384,134,21', 'words': [{'boundingBox': '654,384,74,20', 'text': 'Infinite'}, {'boundingBox': '735,384,53,21', 'text': 'demo'}]}, {'boundingBox': '708,420,83,25', 'words': [{'boundingBox': '708,420,83,25', 'text': 'youtube'}]}]}]}\n"
     ]
    }
   ],
   "source": [
    "print(analysis)"
   ]
  },
  {
   "cell_type": "markdown",
   "metadata": {},
   "source": [
    "## Formatted JSON\n",
    "```\n",
    "{\n",
    "  \"language\": \"en\",\n",
    "  \"textAngle\": 0.0,\n",
    "  \"orientation\": \"Up\",\n",
    "  \"regions\": [\n",
    "    {\n",
    "      \"boundingBox\": \"56,114,494,326\",\n",
    "      \"lines\": [\n",
    "        {\n",
    "          \"boundingBox\": \"293,114,257,37\",\n",
    "          \"words\": [\n",
    "            { \"boundingBox\": \"293,114,137,37\", \"text\": \"Infinite\" },\n",
    "            { \"boundingBox\": \"447,115,103,36\", \"text\": \"demo\" }\n",
    "          ]\n",
    "        },\n",
    "        {\n",
    "          \"boundingBox\": \"56,298,174,31\",\n",
    "          \"words\": [\n",
    "            { \"boundingBox\": \"56,298,87,31\", \"text\": \"Python\" },\n",
    "            { \"boundingBox\": \"153,298,77,24\", \"text\": \"MsOcr\" }\n",
    "          ]\n",
    "        },\n",
    "        {\n",
    "          \"boundingBox\": \"56,383,281,26\",\n",
    "          \"words\": [\n",
    "            {\n",
    "              \"boundingBox\": \"56,383,281,26\",\n",
    "              \"text\": \"python.msocr@domain.com\"\n",
    "            }\n",
    "          ]\n",
    "        },\n",
    "        {\n",
    "          \"boundingBox\": \"56,420,111,20\",\n",
    "          \"words\": [\n",
    "            { \"boundingBox\": \"56,420,65,20\", \"text\": \"Online\" },\n",
    "            { \"boundingBox\": \"129,420,38,20\", \"text\": \"POC\" }\n",
    "          ]\n",
    "        }\n",
    "      ]\n",
    "    },\n",
    "    {\n",
    "      \"boundingBox\": \"636,337,156,108\",\n",
    "      \"lines\": [\n",
    "        {\n",
    "          \"boundingBox\": \"636,337,156,20\",\n",
    "          \"words\": [\n",
    "            { \"boundingBox\": \"636,337,156,20\", \"text\": \"+91-789123456\" }\n",
    "          ]\n",
    "        },\n",
    "        {\n",
    "          \"boundingBox\": \"654,384,134,21\",\n",
    "          \"words\": [\n",
    "            { \"boundingBox\": \"654,384,74,20\", \"text\": \"Infinite\" },\n",
    "            { \"boundingBox\": \"735,384,53,21\", \"text\": \"demo\" }\n",
    "          ]\n",
    "        },\n",
    "        {\n",
    "          \"boundingBox\": \"708,420,83,25\",\n",
    "          \"words\": [{ \"boundingBox\": \"708,420,83,25\", \"text\": \"youtube\" }]\n",
    "        }\n",
    "      ]\n",
    "    }\n",
    "  ]\n",
    "}\n",
    "```"
   ]
  },
  {
   "cell_type": "code",
   "execution_count": 29,
   "metadata": {},
   "outputs": [
    {
     "data": {
      "text/plain": [
       "[[{'boundingBox': '293,114,257,37',\n",
       "   'words': [{'boundingBox': '293,114,137,37', 'text': 'Infinite'},\n",
       "    {'boundingBox': '447,115,103,36', 'text': 'demo'}]},\n",
       "  {'boundingBox': '56,298,174,31',\n",
       "   'words': [{'boundingBox': '56,298,87,31', 'text': 'Python'},\n",
       "    {'boundingBox': '153,298,77,24', 'text': 'MsOcr'}]},\n",
       "  {'boundingBox': '56,383,281,26',\n",
       "   'words': [{'boundingBox': '56,383,281,26',\n",
       "     'text': 'python.msocr@domain.com'}]},\n",
       "  {'boundingBox': '56,420,111,20',\n",
       "   'words': [{'boundingBox': '56,420,65,20', 'text': 'Online'},\n",
       "    {'boundingBox': '129,420,38,20', 'text': 'POC'}]}],\n",
       " [{'boundingBox': '636,337,156,20',\n",
       "   'words': [{'boundingBox': '636,337,156,20', 'text': '+91-789123456'}]},\n",
       "  {'boundingBox': '654,384,134,21',\n",
       "   'words': [{'boundingBox': '654,384,74,20', 'text': 'Infinite'},\n",
       "    {'boundingBox': '735,384,53,21', 'text': 'demo'}]},\n",
       "  {'boundingBox': '708,420,83,25',\n",
       "   'words': [{'boundingBox': '708,420,83,25', 'text': 'youtube'}]}]]"
      ]
     },
     "execution_count": 29,
     "metadata": {},
     "output_type": "execute_result"
    }
   ],
   "source": [
    "# Extract the word bounding boxes and text.\n",
    "line_infos = [region[\"lines\"] for region in analysis[\"regions\"]]\n",
    "line_infos"
   ]
  },
  {
   "cell_type": "code",
   "execution_count": 28,
   "metadata": {},
   "outputs": [
    {
     "data": {
      "text/plain": [
       "[{'boundingBox': '293,114,137,37', 'text': 'Infinite'},\n",
       " {'boundingBox': '447,115,103,36', 'text': 'demo'},\n",
       " {'boundingBox': '56,298,87,31', 'text': 'Python'},\n",
       " {'boundingBox': '153,298,77,24', 'text': 'MsOcr'},\n",
       " {'boundingBox': '56,383,281,26', 'text': 'python.msocr@domain.com'},\n",
       " {'boundingBox': '56,420,65,20', 'text': 'Online'},\n",
       " {'boundingBox': '129,420,38,20', 'text': 'POC'},\n",
       " {'boundingBox': '636,337,156,20', 'text': '+91-789123456'},\n",
       " {'boundingBox': '654,384,74,20', 'text': 'Infinite'},\n",
       " {'boundingBox': '735,384,53,21', 'text': 'demo'},\n",
       " {'boundingBox': '708,420,83,25', 'text': 'youtube'}]"
      ]
     },
     "execution_count": 28,
     "metadata": {},
     "output_type": "execute_result"
    }
   ],
   "source": [
    "word_infos = []\n",
    "for line in line_infos:\n",
    "    for word_metadata in line:\n",
    "        for word_info in word_metadata[\"words\"]:\n",
    "            word_infos.append(word_info)\n",
    "word_infos"
   ]
  },
  {
   "cell_type": "code",
   "execution_count": 27,
   "metadata": {},
   "outputs": [
    {
     "data": {
      "image/png": "[encoded data removed]",
      "text/plain": [
       "<Figure size 360x360 with 1 Axes>"
      ]
     },
     "metadata": {
      "needs_background": "light"
     },
     "output_type": "display_data"
    },
    {
     "data": {
      "text/plain": [
       "(0.0, 1.0, 0.0, 1.0)"
      ]
     },
     "execution_count": 27,
     "metadata": {},
     "output_type": "execute_result"
    },
    {
     "data": {
      "image/png": "[encoded data removed]",
      "text/plain": [
       "<Figure size 432x288 with 1 Axes>"
      ]
     },
     "metadata": {
      "needs_background": "light"
     },
     "output_type": "display_data"
    }
   ],
   "source": [
    "# Display the image and overlay it with the extracted text.\n",
    "plt.figure(figsize=(5, 5))\n",
    "image = Image.open(BytesIO(requests.get(image_url).content))\n",
    "ax = plt.imshow(image, alpha=0.5)\n",
    "for word in word_infos:\n",
    "    bbox = [int(num) for num in word[\"boundingBox\"].split(\",\")]\n",
    "    text = word[\"text\"]\n",
    "    origin = (bbox[0], bbox[1])\n",
    "    patch = Rectangle(origin, bbox[2], bbox[3],\n",
    "                      fill=False, linewidth=2, color='y')\n",
    "    ax.axes.add_patch(patch)\n",
    "    plt.text(origin[0], origin[1], text, fontsize=20, weight=\"bold\", va=\"top\")\n",
    "plt.axis(\"off\")\n",
    "plt.show()"
   ]
  },
  {
   "cell_type": "markdown",
   "metadata": {},
   "source": [
    "## OCR On image stored on disk"
   ]
  },
  {
   "cell_type": "code",
   "execution_count": 18,
   "metadata": {},
   "outputs": [],
   "source": [
    "image_path = './demoIdCard.png'"
   ]
  },
  {
   "cell_type": "code",
   "execution_count": null,
   "metadata": {},
   "outputs": [],
   "source": [
    "# Read the image into a byte array\n",
    "image_data = open(image_path, \"rb\").read()\n",
    "# Set Content-Type to octet-stream\n",
    "headers = {'Ocp-Apim-Subscription-Key': subscription_key, 'Content-Type': 'application/octet-stream'}\n",
    "params = {'language': 'unk', 'detectOrientation': 'true'}\n",
    "# put the byte array into your post request\n",
    "response = requests.post(ocr_url, headers=headers, params=params, data = image_data)\n",
    "\n",
    "response.raise_for_status()\n",
    "\n",
    "analysis = response.json()"
   ]
  },
  {
   "cell_type": "code",
   "execution_count": 26,
   "metadata": {},
   "outputs": [
    {
     "data": {
      "text/plain": [
       "{'language': 'en',\n",
       " 'textAngle': 0.0,\n",
       " 'orientation': 'Up',\n",
       " 'regions': [{'boundingBox': '56,114,494,326',\n",
       "   'lines': [{'boundingBox': '293,114,257,37',\n",
       "     'words': [{'boundingBox': '293,114,137,37', 'text': 'Infinite'},\n",
       "      {'boundingBox': '447,115,103,36', 'text': 'demo'}]},\n",
       "    {'boundingBox': '56,298,174,31',\n",
       "     'words': [{'boundingBox': '56,298,87,31', 'text': 'Python'},\n",
       "      {'boundingBox': '153,298,77,24', 'text': 'MsOcr'}]},\n",
       "    {'boundingBox': '56,383,281,26',\n",
       "     'words': [{'boundingBox': '56,383,281,26',\n",
       "       'text': 'python.msocr@domain.com'}]},\n",
       "    {'boundingBox': '56,420,111,20',\n",
       "     'words': [{'boundingBox': '56,420,65,20', 'text': 'Online'},\n",
       "      {'boundingBox': '129,420,38,20', 'text': 'POC'}]}]},\n",
       "  {'boundingBox': '636,337,156,108',\n",
       "   'lines': [{'boundingBox': '636,337,156,20',\n",
       "     'words': [{'boundingBox': '636,337,156,20', 'text': '+91-789123456'}]},\n",
       "    {'boundingBox': '654,384,134,21',\n",
       "     'words': [{'boundingBox': '654,384,74,20', 'text': 'Infinite'},\n",
       "      {'boundingBox': '735,384,53,21', 'text': 'demo'}]},\n",
       "    {'boundingBox': '708,420,83,25',\n",
       "     'words': [{'boundingBox': '708,420,83,25', 'text': 'youtube'}]}]}]}"
      ]
     },
     "execution_count": 26,
     "metadata": {},
     "output_type": "execute_result"
    }
   ],
   "source": [
    "analysis"
   ]
  },
  {
   "cell_type": "markdown",
   "metadata": {},
   "source": [
    "## Formatted JSON\n",
    "```\n",
    "{\n",
    "  \"language\": \"en\",\n",
    "  \"textAngle\": 0.0,\n",
    "  \"orientation\": \"Up\",\n",
    "  \"regions\": [\n",
    "    {\n",
    "      \"boundingBox\": \"56,114,494,326\",\n",
    "      \"lines\": [\n",
    "        {\n",
    "          \"boundingBox\": \"293,114,257,37\",\n",
    "          \"words\": [\n",
    "            { \"boundingBox\": \"293,114,137,37\", \"text\": \"Infinite\" },\n",
    "            { \"boundingBox\": \"447,115,103,36\", \"text\": \"demo\" }\n",
    "          ]\n",
    "        },\n",
    "        {\n",
    "          \"boundingBox\": \"56,298,174,31\",\n",
    "          \"words\": [\n",
    "            { \"boundingBox\": \"56,298,87,31\", \"text\": \"Python\" },\n",
    "            { \"boundingBox\": \"153,298,77,24\", \"text\": \"MsOcr\" }\n",
    "          ]\n",
    "        },\n",
    "        {\n",
    "          \"boundingBox\": \"56,383,281,26\",\n",
    "          \"words\": [\n",
    "            {\n",
    "              \"boundingBox\": \"56,383,281,26\",\n",
    "              \"text\": \"python.msocr@domain.com\"\n",
    "            }\n",
    "          ]\n",
    "        },\n",
    "        {\n",
    "          \"boundingBox\": \"56,420,111,20\",\n",
    "          \"words\": [\n",
    "            { \"boundingBox\": \"56,420,65,20\", \"text\": \"Online\" },\n",
    "            { \"boundingBox\": \"129,420,38,20\", \"text\": \"POC\" }\n",
    "          ]\n",
    "        }\n",
    "      ]\n",
    "    },\n",
    "    {\n",
    "      \"boundingBox\": \"636,337,156,108\",\n",
    "      \"lines\": [\n",
    "        {\n",
    "          \"boundingBox\": \"636,337,156,20\",\n",
    "          \"words\": [\n",
    "            { \"boundingBox\": \"636,337,156,20\", \"text\": \"+91-789123456\" }\n",
    "          ]\n",
    "        },\n",
    "        {\n",
    "          \"boundingBox\": \"654,384,134,21\",\n",
    "          \"words\": [\n",
    "            { \"boundingBox\": \"654,384,74,20\", \"text\": \"Infinite\" },\n",
    "            { \"boundingBox\": \"735,384,53,21\", \"text\": \"demo\" }\n",
    "          ]\n",
    "        },\n",
    "        {\n",
    "          \"boundingBox\": \"708,420,83,25\",\n",
    "          \"words\": [{ \"boundingBox\": \"708,420,83,25\", \"text\": \"youtube\" }]\n",
    "        }\n",
    "      ]\n",
    "    }\n",
    "  ]\n",
    "}\n",
    "```"
   ]
  },
  {
   "cell_type": "code",
   "execution_count": 23,
   "metadata": {},
   "outputs": [
    {
     "data": {
      "text/plain": [
       "[[{'boundingBox': '293,114,257,37',\n",
       "   'words': [{'boundingBox': '293,114,137,37', 'text': 'Infinite'},\n",
       "    {'boundingBox': '447,115,103,36', 'text': 'demo'}]},\n",
       "  {'boundingBox': '56,298,174,31',\n",
       "   'words': [{'boundingBox': '56,298,87,31', 'text': 'Python'},\n",
       "    {'boundingBox': '153,298,77,24', 'text': 'MsOcr'}]},\n",
       "  {'boundingBox': '56,383,281,26',\n",
       "   'words': [{'boundingBox': '56,383,281,26',\n",
       "     'text': 'python.msocr@domain.com'}]},\n",
       "  {'boundingBox': '56,420,111,20',\n",
       "   'words': [{'boundingBox': '56,420,65,20', 'text': 'Online'},\n",
       "    {'boundingBox': '129,420,38,20', 'text': 'POC'}]}],\n",
       " [{'boundingBox': '636,337,156,20',\n",
       "   'words': [{'boundingBox': '636,337,156,20', 'text': '+91-789123456'}]},\n",
       "  {'boundingBox': '654,384,134,21',\n",
       "   'words': [{'boundingBox': '654,384,74,20', 'text': 'Infinite'},\n",
       "    {'boundingBox': '735,384,53,21', 'text': 'demo'}]},\n",
       "  {'boundingBox': '708,420,83,25',\n",
       "   'words': [{'boundingBox': '708,420,83,25', 'text': 'youtube'}]}]]"
      ]
     },
     "execution_count": 23,
     "metadata": {},
     "output_type": "execute_result"
    }
   ],
   "source": [
    "# Extract the word bounding boxes and text.\n",
    "line_infos = [region[\"lines\"] for region in analysis[\"regions\"]]\n",
    "line_infos"
   ]
  },
  {
   "cell_type": "code",
   "execution_count": 24,
   "metadata": {},
   "outputs": [
    {
     "data": {
      "text/plain": [
       "[{'boundingBox': '293,114,137,37', 'text': 'Infinite'},\n",
       " {'boundingBox': '447,115,103,36', 'text': 'demo'},\n",
       " {'boundingBox': '56,298,87,31', 'text': 'Python'},\n",
       " {'boundingBox': '153,298,77,24', 'text': 'MsOcr'},\n",
       " {'boundingBox': '56,383,281,26', 'text': 'python.msocr@domain.com'},\n",
       " {'boundingBox': '56,420,65,20', 'text': 'Online'},\n",
       " {'boundingBox': '129,420,38,20', 'text': 'POC'},\n",
       " {'boundingBox': '636,337,156,20', 'text': '+91-789123456'},\n",
       " {'boundingBox': '654,384,74,20', 'text': 'Infinite'},\n",
       " {'boundingBox': '735,384,53,21', 'text': 'demo'},\n",
       " {'boundingBox': '708,420,83,25', 'text': 'youtube'}]"
      ]
     },
     "execution_count": 24,
     "metadata": {},
     "output_type": "execute_result"
    }
   ],
   "source": [
    "word_infos = []\n",
    "for line in line_infos:\n",
    "    for word_metadata in line:\n",
    "        for word_info in word_metadata[\"words\"]:\n",
    "            word_infos.append(word_info)\n",
    "word_infos"
   ]
  },
  {
   "cell_type": "code",
   "execution_count": 25,
   "metadata": {},
   "outputs": [
    {
     "data": {
      "image/png": "[encoded data removed]",
      "text/plain": [
       "<Figure size 360x360 with 1 Axes>"
      ]
     },
     "metadata": {
      "needs_background": "light"
     },
     "output_type": "display_data"
    },
    {
     "data": {
      "text/plain": [
       "(0.0, 1.0, 0.0, 1.0)"
      ]
     },
     "execution_count": 25,
     "metadata": {},
     "output_type": "execute_result"
    },
    {
     "data": {
      "image/png": "[encoded data removed]",
      "text/plain": [
       "<Figure size 432x288 with 1 Axes>"
      ]
     },
     "metadata": {
      "needs_background": "light"
     },
     "output_type": "display_data"
    }
   ],
   "source": [
    "# Display the image and overlay it with the extracted text.\n",
    "plt.figure(figsize=(5, 5))\n",
    "image = Image.open(BytesIO(requests.get(image_url).content))\n",
    "ax = plt.imshow(image, alpha=0.5)\n",
    "for word in word_infos:\n",
    "    bbox = [int(num) for num in word[\"boundingBox\"].split(\",\")]\n",
    "    text = word[\"text\"]\n",
    "    origin = (bbox[0], bbox[1])\n",
    "    patch = Rectangle(origin, bbox[2], bbox[3],\n",
    "                      fill=False, linewidth=2, color='y')\n",
    "    ax.axes.add_patch(patch)\n",
    "    plt.text(origin[0], origin[1], text, fontsize=20, weight=\"bold\", va=\"top\")\n",
    "plt.axis(\"off\")\n",
    "plt.show()"
   ]
  },
  {
   "cell_type": "code",
   "execution_count": null,
   "metadata": {},
   "outputs": [],
   "source": []
  }
 ],
 "metadata": {
  "kernelspec": {
   "display_name": "Python 3",
   "language": "python",
   "name": "python3"
  },
  "language_info": {
   "codemirror_mode": {
    "name": "ipython",
    "version": 3
   },
   "file_extension": ".py",
   "mimetype": "text/x-python",
   "name": "python",
   "nbconvert_exporter": "python",
   "pygments_lexer": "ipython3",
   "version": "3.8.5"
  }
 },
 "nbformat": 4,
 "nbformat_minor": 4
}
